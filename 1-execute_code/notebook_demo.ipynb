{
 "cells": [
  {
   "cell_type": "markdown",
   "id": "3fa69acd-7a44-4fe0-9faf-0a5c8dcba4d6",
   "metadata": {},
   "source": [
    "# Welcome to Jupyter-Lab\n",
    "Here you can execute your code as a Notebook\n",
    "\n",
    "\n",
    "And also embed images\n",
    "\n",
    "\n",
    "![alt text](poop.jpeg)"
   ]
  },
  {
   "cell_type": "code",
   "execution_count": null,
   "id": "cd0a0b70-c613-4556-adb4-6671705d6c22",
   "metadata": {},
   "outputs": [],
   "source": [
    "import numpy as np\n",
    "import pandas as pd\n",
    "df = pd.DataFrame(np.random.randint(0,100,size=(100, 4)), columns=list('ABCD'))"
   ]
  },
  {
   "cell_type": "code",
   "execution_count": null,
   "id": "f9d82bdc-62ba-4b35-b0f4-dad256ba0a2e",
   "metadata": {},
   "outputs": [],
   "source": [
    "# Or view your dataframes\n",
    "df"
   ]
  },
  {
   "cell_type": "code",
   "execution_count": null,
   "id": "c1b86549-8edd-4fc6-a58a-9122f7322b1e",
   "metadata": {},
   "outputs": [],
   "source": [
    "# ...or plot them\n",
    "(df['A']).plot()"
   ]
  },
  {
   "cell_type": "code",
   "execution_count": null,
   "id": "be66ada2-0ea2-4aee-880a-e5d356a115a4",
   "metadata": {},
   "outputs": [],
   "source": []
  }
 ],
 "metadata": {
  "kernelspec": {
   "display_name": "Python 3 (ipykernel)",
   "language": "python",
   "name": "python3"
  },
  "language_info": {
   "codemirror_mode": {
    "name": "ipython",
    "version": 3
   },
   "file_extension": ".py",
   "mimetype": "text/x-python",
   "name": "python",
   "nbconvert_exporter": "python",
   "pygments_lexer": "ipython3",
   "version": "3.10.0"
  }
 },
 "nbformat": 4,
 "nbformat_minor": 5
}
